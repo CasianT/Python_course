{
 "cells": [
  {
   "cell_type": "markdown",
   "id": "b19a8e0a",
   "metadata": {},
   "source": [
    "f(x) = (sin(x)/2 + cos(x)/2) ** 2 * sin(x)\n",
    "\n",
    "1.Определить корни\n",
    "\n"
   ]
  },
  {
   "cell_type": "code",
   "execution_count": 15,
   "id": "a575b29a",
   "metadata": {},
   "outputs": [],
   "source": [
    "from sympy import Symbol\n",
    "from sympy import sqrt, solve, solveset, diff, plot, is_increasing, Interval, oo, S\n",
    "from sympy import sin, cos, pi, simplify, periodicity, evalf\n",
    "from sympy import minimum, maximum"
   ]
  },
  {
   "cell_type": "code",
   "execution_count": 18,
   "id": "b6ac6ecb",
   "metadata": {},
   "outputs": [
    {
     "data": {
      "text/latex": [
       "$\\displaystyle \\frac{\\sin{\\left(x \\right)} \\sin^{2}{\\left(x + \\frac{\\pi}{4} \\right)}}{2}$"
      ],
      "text/plain": [
       "sin(x)*sin(x + pi/4)**2/2"
      ]
     },
     "execution_count": 18,
     "metadata": {},
     "output_type": "execute_result"
    }
   ],
   "source": [
    "x = Symbol('x', real = True)\n",
    "y = simplify((sin(x)/2 + cos(x)/2)**2 * sin(x))\n",
    "y\n"
   ]
  },
  {
   "cell_type": "code",
   "execution_count": 19,
   "id": "9c7726b6",
   "metadata": {},
   "outputs": [
    {
     "data": {
      "text/plain": [
       "[0, -pi/4, 3*pi/4, pi]"
      ]
     },
     "execution_count": 19,
     "metadata": {},
     "output_type": "execute_result"
    }
   ],
   "source": [
    "solve(y, x)"
   ]
  },
  {
   "cell_type": "markdown",
   "id": "2089fedd",
   "metadata": {},
   "source": [
    "2.Найти интервалы, на которых функция возрастает"
   ]
  },
  {
   "cell_type": "code",
   "execution_count": 24,
   "id": "13b7ef0b",
   "metadata": {},
   "outputs": [
    {
     "data": {
      "text/latex": [
       "$\\displaystyle \\sin{\\left(x \\right)} \\sin{\\left(x + \\frac{\\pi}{4} \\right)} \\cos{\\left(x + \\frac{\\pi}{4} \\right)} + \\frac{\\sin^{2}{\\left(x + \\frac{\\pi}{4} \\right)} \\cos{\\left(x \\right)}}{2}$"
      ],
      "text/plain": [
       "sin(x)*sin(x + pi/4)*cos(x + pi/4) + sin(x + pi/4)**2*cos(x)/2"
      ]
     },
     "execution_count": 24,
     "metadata": {},
     "output_type": "execute_result"
    }
   ],
   "source": [
    "derivate = diff(y)\n",
    "derivate"
   ]
  },
  {
   "cell_type": "code",
   "execution_count": 23,
   "id": "0a86617e",
   "metadata": {},
   "outputs": [
    {
     "data": {
      "text/latex": [
       "$\\displaystyle 2 \\pi$"
      ],
      "text/plain": [
       "2*pi"
      ]
     },
     "execution_count": 23,
     "metadata": {},
     "output_type": "execute_result"
    }
   ],
   "source": [
    "periodicity(y, x)"
   ]
  },
  {
   "cell_type": "code",
   "execution_count": 25,
   "id": "dc0b07e6",
   "metadata": {},
   "outputs": [
    {
     "data": {
      "text/latex": [
       "$\\displaystyle \\frac{\\sin{\\left(10 \\right)} \\sin^{2}{\\left(\\frac{\\pi}{4} + 10 \\right)}}{2}$"
      ],
      "text/plain": [
       "sin(10)*sin(pi/4 + 10)**2/2"
      ]
     },
     "execution_count": 25,
     "metadata": {},
     "output_type": "execute_result"
    }
   ],
   "source": [
    "y.subs(x, 10+2*pi)"
   ]
  },
  {
   "cell_type": "code",
   "execution_count": 28,
   "id": "ad0ea46c",
   "metadata": {},
   "outputs": [
    {
     "data": {
      "text/latex": [
       "$\\displaystyle 0 \\leq x \\wedge x \\leq 2 \\pi \\wedge \\left(x = 0 \\vee x = \\frac{3 \\pi}{4} \\vee x = \\pi \\vee x = \\frac{7 \\pi}{4}\\right)$"
      ],
      "text/plain": [
       "(0 <= x) & (x <= 2*pi) & (Eq(x, 0) | Eq(x, pi) | Eq(x, 3*pi/4) | Eq(x, 7*pi/4))"
      ]
     },
     "execution_count": 28,
     "metadata": {},
     "output_type": "execute_result"
    }
   ],
   "source": [
    "solve([ x >= 0, x <= periodicity(y, x), y], x)"
   ]
  },
  {
   "cell_type": "markdown",
   "id": "cbfedec2",
   "metadata": {},
   "source": [
    "3. Найти интервалы, на которых функция убывает"
   ]
  },
  {
   "cell_type": "code",
   "execution_count": null,
   "id": "fdb775cc",
   "metadata": {},
   "outputs": [],
   "source": []
  },
  {
   "cell_type": "markdown",
   "id": "ce099fd8",
   "metadata": {},
   "source": [
    "4. Построить график"
   ]
  },
  {
   "cell_type": "code",
   "execution_count": 35,
   "id": "5879baff",
   "metadata": {},
   "outputs": [
    {
     "data": {
      "image/png": "[encoded data removed]",
      "text/plain": [
       "<Figure size 640x480 with 1 Axes>"
      ]
     },
     "metadata": {},
     "output_type": "display_data"
    }
   ],
   "source": [
    "grafic = plot(y, (x, -pi, pi))"
   ]
  },
  {
   "cell_type": "markdown",
   "id": "b90ac0bd",
   "metadata": {},
   "source": [
    "5.Вычислить вершину"
   ]
  },
  {
   "cell_type": "code",
   "execution_count": 30,
   "id": "71f8e018",
   "metadata": {},
   "outputs": [
    {
     "name": "stdout",
     "output_type": "stream",
     "text": [
      "y_max = 0.404\n",
      "y_min = -0.404\n"
     ]
    }
   ],
   "source": [
    "y_max = maximum(y, x, Interval (-pi, pi)).evalf()\n",
    "y_min = minimum(y, x, Interval (-pi, pi)).evalf()\n",
    "\n",
    "print('y_max =', round(y_max, 3))\n",
    "print('y_min =', round(y_min, 3))\n"
   ]
  },
  {
   "cell_type": "markdown",
   "id": "9d9e846f",
   "metadata": {},
   "source": [
    "6. Определить промежутки, на котором f > 0"
   ]
  },
  {
   "cell_type": "code",
   "execution_count": 33,
   "id": "18b3c20a",
   "metadata": {},
   "outputs": [
    {
     "data": {
      "text/latex": [
       "$\\displaystyle \\left(0, \\frac{3 \\pi}{4}\\right) \\cup \\left(\\frac{3 \\pi}{4}, \\pi\\right)$"
      ],
      "text/plain": [
       "Union(Interval.open(0, 3*pi/4), Interval.open(3*pi/4, pi))"
      ]
     },
     "execution_count": 33,
     "metadata": {},
     "output_type": "execute_result"
    }
   ],
   "source": [
    "solveset(y > 0, x, S.Reals)"
   ]
  },
  {
   "cell_type": "markdown",
   "id": "4a249514",
   "metadata": {},
   "source": [
    "7.Определить промежутки, на котором f < 0"
   ]
  },
  {
   "cell_type": "code",
   "execution_count": 32,
   "id": "54c93dd8",
   "metadata": {},
   "outputs": [
    {
     "data": {
      "text/latex": [
       "$\\displaystyle \\left(\\pi, \\frac{7 \\pi}{4}\\right) \\cup \\left(\\frac{7 \\pi}{4}, 2 \\pi\\right)$"
      ],
      "text/plain": [
       "Union(Interval.open(pi, 7*pi/4), Interval.open(7*pi/4, 2*pi))"
      ]
     },
     "execution_count": 32,
     "metadata": {},
     "output_type": "execute_result"
    }
   ],
   "source": [
    "solveset(y < 0, x, S.Reals)"
   ]
  },
  {
   "cell_type": "code",
   "execution_count": null,
   "id": "02049dfa",
   "metadata": {},
   "outputs": [],
   "source": []
  }
 ],
 "metadata": {
  "kernelspec": {
   "display_name": "Python 3 (ipykernel)",
   "language": "python",
   "name": "python3"
  },
  "language_info": {
   "codemirror_mode": {
    "name": "ipython",
    "version": 3
   },
   "file_extension": ".py",
   "mimetype": "text/x-python",
   "name": "python",
   "nbconvert_exporter": "python",
   "pygments_lexer": "ipython3",
   "version": "3.9.13"
  }
 },
 "nbformat": 4,
 "nbformat_minor": 5
}
